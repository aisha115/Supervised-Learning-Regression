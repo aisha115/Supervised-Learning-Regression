{
  "cells": [
    {
      "attachments": {},
      "cell_type": "markdown",
      "metadata": {
        "id": "N4kow8VTdXc6"
      },
      "source": [
        "Importing the Dependencies"
      ]
    },
    {
      "cell_type": "code",
      "execution_count": 40,
      "metadata": {
        "id": "screwht-dED5"
      },
      "outputs": [],
      "source": [
        "import numpy as np\n",
        "import pandas as pd\n",
        "import matplotlib.pyplot as plt\n",
        "from sklearn.model_selection import train_test_split\n",
        "from sklearn.preprocessing import StandardScaler\n",
        "from sklearn.preprocessing import LabelEncoder\n",
        "from sklearn.metrics import r2_score"
      ]
    },
    {
      "cell_type": "code",
      "execution_count": 41,
      "metadata": {
        "id": "g0VKHc5JdWcN"
      },
      "outputs": [],
      "source": [
        "#read dataset\n",
        "df=pd.read_csv('Medical Price Dataset.csv')"
      ]
    },
    {
      "cell_type": "code",
      "execution_count": 42,
      "metadata": {
        "colab": {
          "base_uri": "https://localhost:8080/",
          "height": 206
        },
        "id": "Lg101tQMdyhO",
        "outputId": "7d90cc5a-db1a-4a13-dea6-cba3cb069669"
      },
      "outputs": [
        {
          "data": {
            "text/html": [
              "<div>\n",
              "<style scoped>\n",
              "    .dataframe tbody tr th:only-of-type {\n",
              "        vertical-align: middle;\n",
              "    }\n",
              "\n",
              "    .dataframe tbody tr th {\n",
              "        vertical-align: top;\n",
              "    }\n",
              "\n",
              "    .dataframe thead th {\n",
              "        text-align: right;\n",
              "    }\n",
              "</style>\n",
              "<table border=\"1\" class=\"dataframe\">\n",
              "  <thead>\n",
              "    <tr style=\"text-align: right;\">\n",
              "      <th></th>\n",
              "      <th>age</th>\n",
              "      <th>sex</th>\n",
              "      <th>bmi</th>\n",
              "      <th>children</th>\n",
              "      <th>smoker</th>\n",
              "      <th>region</th>\n",
              "      <th>charges</th>\n",
              "    </tr>\n",
              "  </thead>\n",
              "  <tbody>\n",
              "    <tr>\n",
              "      <th>0</th>\n",
              "      <td>19</td>\n",
              "      <td>female</td>\n",
              "      <td>27.900</td>\n",
              "      <td>0</td>\n",
              "      <td>yes</td>\n",
              "      <td>southwest</td>\n",
              "      <td>16884.92400</td>\n",
              "    </tr>\n",
              "    <tr>\n",
              "      <th>1</th>\n",
              "      <td>18</td>\n",
              "      <td>male</td>\n",
              "      <td>33.770</td>\n",
              "      <td>1</td>\n",
              "      <td>no</td>\n",
              "      <td>southeast</td>\n",
              "      <td>1725.55230</td>\n",
              "    </tr>\n",
              "    <tr>\n",
              "      <th>2</th>\n",
              "      <td>28</td>\n",
              "      <td>male</td>\n",
              "      <td>33.000</td>\n",
              "      <td>3</td>\n",
              "      <td>no</td>\n",
              "      <td>southeast</td>\n",
              "      <td>4449.46200</td>\n",
              "    </tr>\n",
              "    <tr>\n",
              "      <th>3</th>\n",
              "      <td>33</td>\n",
              "      <td>male</td>\n",
              "      <td>22.705</td>\n",
              "      <td>0</td>\n",
              "      <td>no</td>\n",
              "      <td>northwest</td>\n",
              "      <td>21984.47061</td>\n",
              "    </tr>\n",
              "    <tr>\n",
              "      <th>4</th>\n",
              "      <td>32</td>\n",
              "      <td>male</td>\n",
              "      <td>28.880</td>\n",
              "      <td>0</td>\n",
              "      <td>no</td>\n",
              "      <td>northwest</td>\n",
              "      <td>3866.85520</td>\n",
              "    </tr>\n",
              "  </tbody>\n",
              "</table>\n",
              "</div>"
            ],
            "text/plain": [
              "   age     sex     bmi  children smoker     region      charges\n",
              "0   19  female  27.900         0    yes  southwest  16884.92400\n",
              "1   18    male  33.770         1     no  southeast   1725.55230\n",
              "2   28    male  33.000         3     no  southeast   4449.46200\n",
              "3   33    male  22.705         0     no  northwest  21984.47061\n",
              "4   32    male  28.880         0     no  northwest   3866.85520"
            ]
          },
          "execution_count": 42,
          "metadata": {},
          "output_type": "execute_result"
        }
      ],
      "source": [
        "#top 5 records of dataset\n",
        "df.head()"
      ]
    },
    {
      "cell_type": "code",
      "execution_count": 43,
      "metadata": {
        "colab": {
          "base_uri": "https://localhost:8080/"
        },
        "id": "qlT7zQohd1Ns",
        "outputId": "e7b9643e-1cc7-4140-cfae-7512a990df93"
      },
      "outputs": [
        {
          "data": {
            "text/plain": [
              "(1338, 7)"
            ]
          },
          "execution_count": 43,
          "metadata": {},
          "output_type": "execute_result"
        }
      ],
      "source": [
        "#shape of dataset\n",
        "df.shape"
      ]
    },
    {
      "attachments": {},
      "cell_type": "markdown",
      "metadata": {
        "id": "wj2NPjMSeEXK"
      },
      "source": [
        "Data Preprocessing"
      ]
    },
    {
      "cell_type": "code",
      "execution_count": 44,
      "metadata": {
        "colab": {
          "base_uri": "https://localhost:8080/"
        },
        "id": "KXYhuyIdeCpA",
        "outputId": "bbd5313b-69ae-41f0-b192-71cc51a1e155"
      },
      "outputs": [
        {
          "data": {
            "text/plain": [
              "age         0\n",
              "sex         0\n",
              "bmi         0\n",
              "children    0\n",
              "smoker      0\n",
              "region      0\n",
              "charges     0\n",
              "dtype: int64"
            ]
          },
          "execution_count": 44,
          "metadata": {},
          "output_type": "execute_result"
        }
      ],
      "source": [
        "df.isnull().sum()"
      ]
    },
    {
      "attachments": {},
      "cell_type": "markdown",
      "metadata": {
        "id": "AW7pbs6teRNZ"
      },
      "source": [
        "There is no missing values in dataset"
      ]
    },
    {
      "cell_type": "code",
      "execution_count": 45,
      "metadata": {
        "colab": {
          "base_uri": "https://localhost:8080/"
        },
        "id": "abjfU3qaeMJD",
        "outputId": "e7945482-e3a7-4f85-dbc2-b68ff6583770"
      },
      "outputs": [
        {
          "name": "stdout",
          "output_type": "stream",
          "text": [
            "<class 'pandas.core.frame.DataFrame'>\n",
            "RangeIndex: 1338 entries, 0 to 1337\n",
            "Data columns (total 7 columns):\n",
            " #   Column    Non-Null Count  Dtype  \n",
            "---  ------    --------------  -----  \n",
            " 0   age       1338 non-null   int64  \n",
            " 1   sex       1338 non-null   object \n",
            " 2   bmi       1338 non-null   float64\n",
            " 3   children  1338 non-null   int64  \n",
            " 4   smoker    1338 non-null   object \n",
            " 5   region    1338 non-null   object \n",
            " 6   charges   1338 non-null   float64\n",
            "dtypes: float64(2), int64(2), object(3)\n",
            "memory usage: 73.3+ KB\n"
          ]
        }
      ],
      "source": [
        "df.info()"
      ]
    },
    {
      "attachments": {},
      "cell_type": "markdown",
      "metadata": {},
      "source": [
        "Converting labels into numerical using LabelEncoder"
      ]
    },
    {
      "cell_type": "code",
      "execution_count": 46,
      "metadata": {
        "id": "fM_LQLWLfiLC"
      },
      "outputs": [],
      "source": [
        "label = LabelEncoder()\n",
        "df['sex'] = label.fit_transform(df['sex'])\n",
        "df['smoker'] = label.fit_transform(df['smoker'])\n",
        "df['region'] = label.fit_transform(df['region'])"
      ]
    },
    {
      "cell_type": "code",
      "execution_count": 47,
      "metadata": {
        "colab": {
          "base_uri": "https://localhost:8080/",
          "height": 206
        },
        "id": "PJ6jKKZKRRUJ",
        "outputId": "2bb28df3-c6de-494c-d87c-40b515f99b97"
      },
      "outputs": [
        {
          "data": {
            "text/html": [
              "<div>\n",
              "<style scoped>\n",
              "    .dataframe tbody tr th:only-of-type {\n",
              "        vertical-align: middle;\n",
              "    }\n",
              "\n",
              "    .dataframe tbody tr th {\n",
              "        vertical-align: top;\n",
              "    }\n",
              "\n",
              "    .dataframe thead th {\n",
              "        text-align: right;\n",
              "    }\n",
              "</style>\n",
              "<table border=\"1\" class=\"dataframe\">\n",
              "  <thead>\n",
              "    <tr style=\"text-align: right;\">\n",
              "      <th></th>\n",
              "      <th>age</th>\n",
              "      <th>sex</th>\n",
              "      <th>bmi</th>\n",
              "      <th>children</th>\n",
              "      <th>smoker</th>\n",
              "      <th>region</th>\n",
              "      <th>charges</th>\n",
              "    </tr>\n",
              "  </thead>\n",
              "  <tbody>\n",
              "    <tr>\n",
              "      <th>0</th>\n",
              "      <td>19</td>\n",
              "      <td>0</td>\n",
              "      <td>27.900</td>\n",
              "      <td>0</td>\n",
              "      <td>1</td>\n",
              "      <td>3</td>\n",
              "      <td>16884.92400</td>\n",
              "    </tr>\n",
              "    <tr>\n",
              "      <th>1</th>\n",
              "      <td>18</td>\n",
              "      <td>1</td>\n",
              "      <td>33.770</td>\n",
              "      <td>1</td>\n",
              "      <td>0</td>\n",
              "      <td>2</td>\n",
              "      <td>1725.55230</td>\n",
              "    </tr>\n",
              "    <tr>\n",
              "      <th>2</th>\n",
              "      <td>28</td>\n",
              "      <td>1</td>\n",
              "      <td>33.000</td>\n",
              "      <td>3</td>\n",
              "      <td>0</td>\n",
              "      <td>2</td>\n",
              "      <td>4449.46200</td>\n",
              "    </tr>\n",
              "    <tr>\n",
              "      <th>3</th>\n",
              "      <td>33</td>\n",
              "      <td>1</td>\n",
              "      <td>22.705</td>\n",
              "      <td>0</td>\n",
              "      <td>0</td>\n",
              "      <td>1</td>\n",
              "      <td>21984.47061</td>\n",
              "    </tr>\n",
              "    <tr>\n",
              "      <th>4</th>\n",
              "      <td>32</td>\n",
              "      <td>1</td>\n",
              "      <td>28.880</td>\n",
              "      <td>0</td>\n",
              "      <td>0</td>\n",
              "      <td>1</td>\n",
              "      <td>3866.85520</td>\n",
              "    </tr>\n",
              "  </tbody>\n",
              "</table>\n",
              "</div>"
            ],
            "text/plain": [
              "   age  sex     bmi  children  smoker  region      charges\n",
              "0   19    0  27.900         0       1       3  16884.92400\n",
              "1   18    1  33.770         1       0       2   1725.55230\n",
              "2   28    1  33.000         3       0       2   4449.46200\n",
              "3   33    1  22.705         0       0       1  21984.47061\n",
              "4   32    1  28.880         0       0       1   3866.85520"
            ]
          },
          "execution_count": 47,
          "metadata": {},
          "output_type": "execute_result"
        }
      ],
      "source": [
        "df.head()"
      ]
    },
    {
      "attachments": {},
      "cell_type": "markdown",
      "metadata": {
        "id": "hFQawnAaejJI"
      },
      "source": [
        "Linear Regression"
      ]
    },
    {
      "cell_type": "code",
      "execution_count": 48,
      "metadata": {
        "id": "R7ACtZU4eZ72"
      },
      "outputs": [],
      "source": [
        "class Linear_Regression():\n",
        "\n",
        "   def __init__( self, learning_rate, no_of_iterations ) :\n",
        "        self.learning_rate = learning_rate  \n",
        "        self.no_of_iterations = no_of_iterations\n",
        "\n",
        "    # fit function to train the model\n",
        "   def fit( self, X, Y ) : \n",
        "        # no_of_training_examples, no_of_features\n",
        "        self.m, self.n = X.shape\n",
        "          \n",
        "        # initiating the weight and bias\n",
        "        self.w = np.zeros( self.n )\n",
        "        self.b = 0\n",
        "        self.X = X\n",
        "        self.Y = Y\n",
        "\n",
        "        # implementing Gradient Descent for Optimization              \n",
        "        for i in range( self.no_of_iterations ) :              \n",
        "            self.update_weights()        \n",
        "      \n",
        "    # function to update weights in gradient descent      \n",
        "   def update_weights( self ) :             \n",
        "        Y_prediction = self.predict( self.X )\n",
        "          \n",
        "        # calculate gradients        \n",
        "        dw =  - ( 2 * ( self.X.T ).dot( self.Y - Y_prediction ) ) / self.m\n",
        "        db =  - 2 * np.sum( self.Y - Y_prediction ) / self.m \n",
        "\n",
        "        # updating the weights      \n",
        "        self.w = self.w - self.learning_rate * dw\n",
        "        self.b = self.b - self.learning_rate * db\n",
        "\n",
        "    # Line function for prediction:\n",
        "   def predict( self, X ) :\n",
        "        return X.dot( self.w ) + self.b \n"
      ]
    },
    {
      "cell_type": "code",
      "execution_count": 49,
      "metadata": {
        "id": "RQleK8S0fB7K"
      },
      "outputs": [],
      "source": [
        "X = df.drop(['charges'], axis = 1)\n",
        "Y = df['charges']"
      ]
    },
    {
      "cell_type": "code",
      "execution_count": 50,
      "metadata": {
        "id": "d8lWYXi8fzM4"
      },
      "outputs": [],
      "source": [
        "X_train, X_test, Y_train, Y_test = train_test_split(X, Y, test_size=0.33, random_state = 2)"
      ]
    },
    {
      "cell_type": "code",
      "execution_count": 51,
      "metadata": {
        "id": "fJk0W8GVQ0bw"
      },
      "outputs": [],
      "source": [
        "sc = StandardScaler()\n",
        "sc.fit(X_train)\n",
        "X_train = sc.transform(X_train)\n",
        "X_test = sc.transform(X_test)"
      ]
    },
    {
      "cell_type": "code",
      "execution_count": 52,
      "metadata": {
        "id": "Yw-tz9mDf19E"
      },
      "outputs": [],
      "source": [
        "model=Linear_Regression(learning_rate = 0.02, no_of_iterations=1000)"
      ]
    },
    {
      "cell_type": "code",
      "execution_count": 53,
      "metadata": {
        "id": "t8WxXJfff-Yz"
      },
      "outputs": [],
      "source": [
        "model.fit(X_train, Y_train)"
      ]
    },
    {
      "cell_type": "code",
      "execution_count": 54,
      "metadata": {
        "id": "dae8DbULgUas"
      },
      "outputs": [],
      "source": [
        "Y_pred = model.predict(X_test)"
      ]
    },
    {
      "cell_type": "code",
      "execution_count": 55,
      "metadata": {
        "colab": {
          "base_uri": "https://localhost:8080/"
        },
        "id": "21kXfZrWhaUM",
        "outputId": "b7ede79d-26a7-4125-dd7b-9ad6d01f83e5"
      },
      "outputs": [
        {
          "name": "stdout",
          "output_type": "stream",
          "text": [
            "[ 2206.44316224 12128.57168476 10623.72352246  2553.99507214\n",
            "  8496.33081026 11334.57127277  3600.78567219  1491.87354869\n",
            " 12053.67237523  9687.04284963 11530.01606991  5298.05425886\n",
            " 29268.89146356  -113.61306659 13057.64477726 13297.76941285\n",
            "  4458.38935146  8016.69742893 28736.762252    3175.92899166\n",
            " 12397.58851742  1946.81219006 33185.7788866  31519.95883128\n",
            " 29738.99614837  8365.14681972  2663.48228394 15472.15475852\n",
            "  6223.59633478  2179.56538315  9728.73954933  5922.87061232\n",
            "  4062.96729546  5026.59145543  9808.87396178  4985.11351209\n",
            " 29370.55649373  6294.31116789 27032.09061434 14012.78100246\n",
            "   436.01328991 27109.40919653  7852.26409744  1138.85613929\n",
            " 10517.7574625   7662.61571033 11564.31757026  8444.80707016\n",
            " 11062.62142235 13204.54814216  6606.32074965 -1151.07748637\n",
            " 25589.06446254 36130.70422784  6927.53510183 17413.63133695\n",
            "   974.68916092 11237.72122195  1818.20651675 33336.4749534\n",
            " 11422.00145925   480.42763931  4137.13269517 35205.45363707\n",
            " -1452.10030637 14451.18766934 14216.15367201  3744.98392105\n",
            " 12985.48171048 11243.24598622 11025.21187298 16310.58077406\n",
            " 10089.47095198  9520.80651763 15639.30882625 11891.86575387\n",
            "  4082.19037924  3753.300246    5582.4530805  13172.63947134\n",
            "  8527.19947303 12488.76934089  9893.72334922 26463.59836726\n",
            " 12705.71199822  4057.07101151 37656.78520987 10970.79804407\n",
            "  8576.93354619 11341.73809022 11586.35434075 14468.88943934\n",
            " 11284.16172524 13680.18115736  6092.5973849  25148.04133255\n",
            "  5138.65867782 10702.46880398  3390.24618519 28297.05379605\n",
            "  7250.19412314  3760.30058427  2238.97641965 16075.98266242\n",
            "  7901.57045471  9598.2557845   9963.62264031  5318.16748462\n",
            " 15416.62088703 33505.505515    4176.11956366 10897.40543525\n",
            " 24452.74070459 15469.21790386  2540.43637167 10230.05859833\n",
            "  8777.52977926  6322.99274522 11257.12608537 28188.89340965\n",
            "  5986.6444051   6714.22779677 16066.65689759 16798.94601172\n",
            "  8628.66555306 26125.62300247 34343.31954234 11384.97880719\n",
            "  8101.11369906  9717.62210447  8411.25121554  3645.95896774\n",
            "  3024.51244432  4780.00320094  8407.1539815   8744.4001848\n",
            "  7298.65983794 28194.84972671 33827.10638223  4178.33382898\n",
            " 26622.54456921  4351.40526639  6735.79742599 13464.58217618\n",
            "  7547.48873611 35828.59760837 11796.89382775 11216.58789387\n",
            "  8265.33430043   135.54706185  6154.48772718  7522.47048865\n",
            "  5021.90519009 11053.53064473 11473.58734126 15547.89706189\n",
            "  6514.08295589 27476.93544833  2042.80944862 12023.59038123\n",
            " 17506.89152186 13996.81129484  8991.69035835  3022.66063546\n",
            "  4547.65785119  9162.07059077 19213.89841765 27993.73674252\n",
            " 13090.48333517  3232.21498375 32256.07816833 12599.43458055\n",
            " 32655.43834906 34070.59386186 11744.47371337  7102.9661317\n",
            "  3354.14341242  3175.92899166 11818.5682081   7503.5769402\n",
            "  3000.36651255  1230.64458712 30847.92101385  7210.13736623\n",
            "  5883.43044729 26510.79428375  7305.64633147  2957.14192693\n",
            "  8057.87211803 34458.56754254  8106.65234121  4642.16222061\n",
            "  9702.73533227 26701.12254224  6438.82766634 39383.02647675\n",
            " 35946.28312517 13593.76089251 26154.56365875 12443.78111758\n",
            " 36808.54783826  7354.54671659  4283.81156246  2123.62491466\n",
            " 14697.22670176 13849.82965509  2893.02523429 34859.86473044\n",
            " 12311.18379224  8847.66814789   760.62890437 29965.68141455\n",
            "  4145.98231805  4070.23876834 12434.96794722 14935.50638564\n",
            " 28368.61453111  -476.90935561  3550.23807012  8457.75517341\n",
            " 39419.68411493  8756.08803474 34858.34370324 26051.06880109\n",
            " 13598.16948427 28276.55488614 17242.99244102  7811.56596573\n",
            " 16216.36176626  7428.06516227 10820.46436741  3301.1839723\n",
            "  8388.79144434  1964.26349951 32061.3826478  31236.84355697\n",
            " 14303.16251954 11023.70597     1746.33611891  6338.24678476\n",
            " 10746.51858812  4503.9540061  10479.69569961   594.14695586\n",
            " 33940.51603601 31587.6200361  10467.2021724  25721.53642901\n",
            " 12771.75354824  2480.9661661  10738.37649669  3239.47825366\n",
            "  8303.86531497 10193.65955891 16583.43831923  5906.85462061\n",
            " 10220.22549852   189.37919994 -1653.54939802  1524.68091358\n",
            " 27098.1451782  33094.53793432 37104.94244609 -2025.98153558\n",
            " 16240.22441584 35923.27849795 13146.45918272 33167.51369912\n",
            "  1240.4789001   9360.6584337  12628.45226535  1834.53947855\n",
            " 10941.82619476 37981.2221622   8481.3129711  12516.72226789\n",
            "  9581.3427605  31904.56711051  9392.30116685 30829.77595513\n",
            "  3333.36686208  6458.80940969  1944.94867844  5635.37319095\n",
            " 37961.24401655 24510.10226002 34180.83616712 11165.98670196\n",
            " 13664.24561562 18314.01676173  5493.74425706  7392.67948016\n",
            " 12157.31300863 14904.88333938  4249.41143451  2835.979432\n",
            "  9255.39990519  8361.41197581 10120.22627838  7939.14063168\n",
            "  3041.79855408 10166.15335631 29860.82300818  6160.23256047\n",
            "  4599.19789772  3915.41822507 10125.86604079 10525.72182059\n",
            " 37888.3227388   8353.52765226 13910.75342013 12029.28376665\n",
            "  9761.52489969  1061.59768592 28353.21828196 13668.18661751\n",
            " 12774.29859522 16092.24471924 10138.49146586  9912.61277418\n",
            " 13872.58129373 26589.09758921 13958.3671404   5678.68737032\n",
            "  5424.63035682 10094.71977076  6735.80230319 11003.26030081\n",
            "  7686.43730371  4740.67378172 15917.98306945 24376.31434003\n",
            "  5791.27705192 17819.29038548  8329.3259871   4192.71718364\n",
            " 26831.07747092 31642.49616223 11647.36672557  5616.59942215\n",
            " 13038.95145844 31345.59255922   881.69107677 10567.65115612\n",
            " 33653.03634366 11615.59209457  5251.32797851 28919.31295117\n",
            "  8004.6732181  12842.43335141 10241.72000357  7956.96987093\n",
            "  5316.23861408 10731.19708085  3826.24139631  8410.69721419\n",
            "  8469.16410343  7623.20756922 32378.57578733  4814.76530359\n",
            " 16017.80199885 12566.84295179 10803.90375731  9567.06485899\n",
            " 37968.74123338 14017.86334206 36287.34327812 14120.2883113\n",
            "  2510.52528545 30483.17116536  9601.35607916  7535.56222409\n",
            "  7879.89565891 26264.99626416 36366.76192521  8518.68710825\n",
            " 10557.41769655 40225.48038743  3645.25102085 14869.54653193\n",
            "  3970.06385892 28854.53418028  7853.68604844 17077.27773733\n",
            " 14346.2522013   2363.7689742  35608.55548727 11747.54163499\n",
            "  1686.63324435 12219.66606358  5284.16733415 15498.10327536\n",
            "  3724.50491685 35183.69281207  6415.77159125  9170.72860242\n",
            "  7368.32732409  4290.34704609 11515.76499538 32861.67357998\n",
            " 35644.16183009  7125.76571841  7759.33434506  6193.09182183\n",
            " 30403.0380324   3381.59634334  5891.71748357 10321.27310592\n",
            " 36268.6117471  11457.56317975  2120.3342551  12951.71333179\n",
            "  2789.57621211 16309.37847664  4158.36509946  7056.09449105\n",
            "  9396.02171743 14452.4971796   8778.28273075 12142.10480458\n",
            " 29586.74664817  6646.63492373 26376.57522639 12986.8115419\n",
            " 10549.52080618  2331.75042164 32300.41777584 -1758.40569558\n",
            "  6054.82015274  9636.21891979 26601.5691019  26525.11718985\n",
            " 12319.97325314  7683.37755189 29689.71094316 13478.19149363\n",
            "  3220.16343259  4025.66219211 39903.19230834  7326.03158527\n",
            " 11107.55397861  3622.12878911]\n"
          ]
        }
      ],
      "source": [
        "print(Y_pred)"
      ]
    },
    {
      "cell_type": "code",
      "execution_count": 57,
      "metadata": {
        "colab": {
          "base_uri": "https://localhost:8080/"
        },
        "id": "zfCTZt_IhXez",
        "outputId": "abf44133-8cf5-41d0-ff0c-db805fce55b2"
      },
      "outputs": [
        {
          "name": "stdout",
          "output_type": "stream",
          "text": [
            "76.98751296167457\n"
          ]
        }
      ],
      "source": [
        "accuracy=r2_score(Y_test,Y_pred)\n",
        "print(accuracy*100)"
      ]
    }
  ],
  "metadata": {
    "colab": {
      "provenance": []
    },
    "kernelspec": {
      "display_name": "Python 3",
      "name": "python3"
    },
    "language_info": {
      "codemirror_mode": {
        "name": "ipython",
        "version": 3
      },
      "file_extension": ".py",
      "mimetype": "text/x-python",
      "name": "python",
      "nbconvert_exporter": "python",
      "pygments_lexer": "ipython3",
      "version": "3.10.6"
    }
  },
  "nbformat": 4,
  "nbformat_minor": 0
}
